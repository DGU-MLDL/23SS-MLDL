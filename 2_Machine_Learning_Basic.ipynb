{
 "cells": [
  {
   "cell_type": "markdown",
   "id": "5d0c6436",
   "metadata": {},
   "source": [
    "## Jupyter Basic"
   ]
  },
  {
   "cell_type": "markdown",
   "id": "02c5a814",
   "metadata": {},
   "source": [
    "    ### 제목을 클릭하면 파일 이름 변경 가능\n",
    "    ### 셀을 누르고 a를 누르면, 위에 셀 추가\n",
    "    ### 셀을 누르고 b를 누르면, 아래에 셀 추가\n",
    "    ### 셀을 누르고 dd를 누르면, 해당 셀 삭제\n",
    "    ### 이 외에도 잘라내기/복사/붙여넣기/이동 가능\n",
    "    ### Shift를 누른 상태에서 드래그 가능\n",
    "    ### 셀을 클릭 후 M을 누르면 Markdown으로 변환\n",
    "    ### 다시 코드로 변경하려면 메인 위젯 아래의 오른쪽 2번째 리스트 박스 활용\n",
    "    ### Ctrl + Enter를 누르면 실행\n",
    "    ### Shift + Enter를 누르면 실행하며 새로운 줄 생성\n",
    "    ### 이 외에도 다양한 메뉴 활용 가능"
   ]
  },
  {
   "cell_type": "markdown",
   "id": "9a6276df",
   "metadata": {},
   "source": [
    "## Data Processing"
   ]
  },
  {
   "cell_type": "markdown",
   "id": "503c0684",
   "metadata": {},
   "source": [
    "### TXT to String"
   ]
  },
  {
   "cell_type": "code",
   "execution_count": 1,
   "id": "6dad0a77",
   "metadata": {},
   "outputs": [
    {
     "name": "stdout",
     "output_type": "stream",
     "text": [
      "자연어처리(NLP)는 사람이 내뱉은 비정형적 자연어를 컴퓨터가 이해할 수 있는 정형적 언어 데이터로 바꾸는 기술이다. 컴퓨터가 문장 의도를 이해하고 말한 사람 의도를 정확히 파악할 수 있도록 해주는 과정이다. \n",
      "\n",
      "<Enter>\n",
      "\n",
      "\n",
      "<Enter>\n",
      "AI 서비스에서 NLP는 중요한 부분을 차지한다. 컴퓨터가 자연어를 문법상 의미 최소 단위인 형태소로 분해(파싱)해 언어학적 구조를 패턴화, 전체 의미를 파악하도록 해준다. 하나의 품사에 여러 모호성을 해소하는 품사 태깅, 불용어 제거, 기계번역, 대화시스템에 이르기까지 모든 과업을 수행한다. \n",
      "\n",
      "<Enter>\n",
      "\n",
      "\n",
      "<Enter>\n",
      "최근에는 딥러닝 기반 NLP 연구가 늘고 있다. 단어 단위가 아닌 문장 전체 맥락에서 의미를 추론할 수 있게 됐다. 딥러닝을 적용하기 위해서는 말뭉치(코퍼스, Corpus)라는 학습용 언어 데이터를 필수로 확보해야 한다. \n",
      "\n",
      "<Enter>\n",
      "\n",
      "\n",
      "<Enter>\n",
      "NLP를 기반으로 한 음성인식 기술은 대용량 음성 데이터를 저장하고 실시간으로 처리 가능한 네트워크와 컴퓨팅 기술로 크게 진화하고 있다. 음성인식 기술 핵심은 상대방과 대화를 계속 이어가는 것이다. \n",
      "<Enter>\n"
     ]
    }
   ],
   "source": [
    "f = open(\"./data/sample.txt\", 'r')\n",
    "while True:\n",
    "    line = f.readline()\n",
    "    if not line: break\n",
    "    print(line)\n",
    "    print(\"<Enter>\")\n",
    "f.close()"
   ]
  },
  {
   "cell_type": "code",
   "execution_count": 2,
   "id": "6640d660",
   "metadata": {},
   "outputs": [
    {
     "name": "stdout",
     "output_type": "stream",
     "text": [
      "자연어처리(NLP)는 사람이 내뱉은 비정형적 자연어를 컴퓨터가 이해할 수 있는 정형적 언어 데이터로 바꾸는 기술이다. 컴퓨터가 문장 의도를 이해하고 말한 사람 의도를 정확히 파악할 수 있도록 해주는 과정이다. \n",
      "\n",
      "AI 서비스에서 NLP는 중요한 부분을 차지한다. 컴퓨터가 자연어를 문법상 의미 최소 단위인 형태소로 분해(파싱)해 언어학적 구조를 패턴화, 전체 의미를 파악하도록 해준다. 하나의 품사에 여러 모호성을 해소하는 품사 태깅, 불용어 제거, 기계번역, 대화시스템에 이르기까지 모든 과업을 수행한다. \n",
      "\n",
      "최근에는 딥러닝 기반 NLP 연구가 늘고 있다. 단어 단위가 아닌 문장 전체 맥락에서 의미를 추론할 수 있게 됐다. 딥러닝을 적용하기 위해서는 말뭉치(코퍼스, Corpus)라는 학습용 언어 데이터를 필수로 확보해야 한다. \n",
      "\n",
      "NLP를 기반으로 한 음성인식 기술은 대용량 음성 데이터를 저장하고 실시간으로 처리 가능한 네트워크와 컴퓨팅 기술로 크게 진화하고 있다. 음성인식 기술 핵심은 상대방과 대화를 계속 이어가는 것이다. \n"
     ]
    }
   ],
   "source": [
    "f = open(\"./data/sample.txt\", 'r')\n",
    "lines = f.read()\n",
    "print(lines)\n",
    "f.close()"
   ]
  },
  {
   "cell_type": "markdown",
   "id": "e339e406",
   "metadata": {},
   "source": [
    "### EXCEL to Dataframe"
   ]
  },
  {
   "cell_type": "markdown",
   "id": "4b5dc786",
   "metadata": {},
   "source": [
    "Pandas is a fast, powerful, flexible and easy to use open source data analysis and manipulation tool, built on top of the Python programming language."
   ]
  },
  {
   "cell_type": "code",
   "execution_count": 3,
   "id": "a423553a",
   "metadata": {},
   "outputs": [],
   "source": [
    "import pandas as pd"
   ]
  },
  {
   "cell_type": "code",
   "execution_count": 4,
   "id": "213f5873",
   "metadata": {},
   "outputs": [],
   "source": [
    "xlsx = pd.read_excel('./data/sample.xlsx', sheet_name=0)"
   ]
  },
  {
   "cell_type": "code",
   "execution_count": 5,
   "id": "80765478",
   "metadata": {},
   "outputs": [
    {
     "data": {
      "text/html": [
       "<div>\n",
       "<style scoped>\n",
       "    .dataframe tbody tr th:only-of-type {\n",
       "        vertical-align: middle;\n",
       "    }\n",
       "\n",
       "    .dataframe tbody tr th {\n",
       "        vertical-align: top;\n",
       "    }\n",
       "\n",
       "    .dataframe thead th {\n",
       "        text-align: right;\n",
       "    }\n",
       "</style>\n",
       "<table border=\"1\" class=\"dataframe\">\n",
       "  <thead>\n",
       "    <tr style=\"text-align: right;\">\n",
       "      <th></th>\n",
       "      <th>이름</th>\n",
       "      <th>국어성적</th>\n",
       "      <th>수학성적</th>\n",
       "    </tr>\n",
       "  </thead>\n",
       "  <tbody>\n",
       "    <tr>\n",
       "      <th>0</th>\n",
       "      <td>강다니엘</td>\n",
       "      <td>10</td>\n",
       "      <td>55</td>\n",
       "    </tr>\n",
       "    <tr>\n",
       "      <th>1</th>\n",
       "      <td>강동호</td>\n",
       "      <td>20</td>\n",
       "      <td>60</td>\n",
       "    </tr>\n",
       "    <tr>\n",
       "      <th>2</th>\n",
       "      <td>강미나</td>\n",
       "      <td>50</td>\n",
       "      <td>75</td>\n",
       "    </tr>\n",
       "    <tr>\n",
       "      <th>3</th>\n",
       "      <td>권현빈</td>\n",
       "      <td>80</td>\n",
       "      <td>90</td>\n",
       "    </tr>\n",
       "    <tr>\n",
       "      <th>4</th>\n",
       "      <td>김도연</td>\n",
       "      <td>90</td>\n",
       "      <td>95</td>\n",
       "    </tr>\n",
       "    <tr>\n",
       "      <th>5</th>\n",
       "      <td>김사무엘</td>\n",
       "      <td>70</td>\n",
       "      <td>85</td>\n",
       "    </tr>\n",
       "    <tr>\n",
       "      <th>6</th>\n",
       "      <td>김세정</td>\n",
       "      <td>60</td>\n",
       "      <td>80</td>\n",
       "    </tr>\n",
       "    <tr>\n",
       "      <th>7</th>\n",
       "      <td>김소혜</td>\n",
       "      <td>60</td>\n",
       "      <td>80</td>\n",
       "    </tr>\n",
       "    <tr>\n",
       "      <th>8</th>\n",
       "      <td>김청하</td>\n",
       "      <td>30</td>\n",
       "      <td>65</td>\n",
       "    </tr>\n",
       "    <tr>\n",
       "      <th>9</th>\n",
       "      <td>노태현</td>\n",
       "      <td>90</td>\n",
       "      <td>95</td>\n",
       "    </tr>\n",
       "    <tr>\n",
       "      <th>10</th>\n",
       "      <td>라이관린</td>\n",
       "      <td>30</td>\n",
       "      <td>65</td>\n",
       "    </tr>\n",
       "    <tr>\n",
       "      <th>11</th>\n",
       "      <td>박우진</td>\n",
       "      <td>30</td>\n",
       "      <td>65</td>\n",
       "    </tr>\n",
       "    <tr>\n",
       "      <th>12</th>\n",
       "      <td>박지훈</td>\n",
       "      <td>70</td>\n",
       "      <td>85</td>\n",
       "    </tr>\n",
       "    <tr>\n",
       "      <th>13</th>\n",
       "      <td>배진영</td>\n",
       "      <td>100</td>\n",
       "      <td>100</td>\n",
       "    </tr>\n",
       "    <tr>\n",
       "      <th>14</th>\n",
       "      <td>옹성우</td>\n",
       "      <td>90</td>\n",
       "      <td>95</td>\n",
       "    </tr>\n",
       "    <tr>\n",
       "      <th>15</th>\n",
       "      <td>유연정</td>\n",
       "      <td>10</td>\n",
       "      <td>55</td>\n",
       "    </tr>\n",
       "    <tr>\n",
       "      <th>16</th>\n",
       "      <td>임나영</td>\n",
       "      <td>40</td>\n",
       "      <td>70</td>\n",
       "    </tr>\n",
       "    <tr>\n",
       "      <th>17</th>\n",
       "      <td>전소미</td>\n",
       "      <td>30</td>\n",
       "      <td>65</td>\n",
       "    </tr>\n",
       "    <tr>\n",
       "      <th>18</th>\n",
       "      <td>정채연</td>\n",
       "      <td>80</td>\n",
       "      <td>90</td>\n",
       "    </tr>\n",
       "    <tr>\n",
       "      <th>19</th>\n",
       "      <td>주결경</td>\n",
       "      <td>90</td>\n",
       "      <td>95</td>\n",
       "    </tr>\n",
       "    <tr>\n",
       "      <th>20</th>\n",
       "      <td>주학년</td>\n",
       "      <td>10</td>\n",
       "      <td>55</td>\n",
       "    </tr>\n",
       "    <tr>\n",
       "      <th>21</th>\n",
       "      <td>최유정</td>\n",
       "      <td>80</td>\n",
       "      <td>90</td>\n",
       "    </tr>\n",
       "    <tr>\n",
       "      <th>22</th>\n",
       "      <td>타카다 켄타</td>\n",
       "      <td>20</td>\n",
       "      <td>60</td>\n",
       "    </tr>\n",
       "    <tr>\n",
       "      <th>23</th>\n",
       "      <td>하성운</td>\n",
       "      <td>90</td>\n",
       "      <td>95</td>\n",
       "    </tr>\n",
       "  </tbody>\n",
       "</table>\n",
       "</div>"
      ],
      "text/plain": [
       "        이름  국어성적  수학성적\n",
       "0     강다니엘    10    55\n",
       "1      강동호    20    60\n",
       "2      강미나    50    75\n",
       "3      권현빈    80    90\n",
       "4      김도연    90    95\n",
       "5     김사무엘    70    85\n",
       "6      김세정    60    80\n",
       "7      김소혜    60    80\n",
       "8      김청하    30    65\n",
       "9      노태현    90    95\n",
       "10    라이관린    30    65\n",
       "11     박우진    30    65\n",
       "12     박지훈    70    85\n",
       "13     배진영   100   100\n",
       "14     옹성우    90    95\n",
       "15     유연정    10    55\n",
       "16     임나영    40    70\n",
       "17     전소미    30    65\n",
       "18     정채연    80    90\n",
       "19     주결경    90    95\n",
       "20     주학년    10    55\n",
       "21     최유정    80    90\n",
       "22  타카다 켄타    20    60\n",
       "23     하성운    90    95"
      ]
     },
     "execution_count": 5,
     "metadata": {},
     "output_type": "execute_result"
    }
   ],
   "source": [
    "xlsx"
   ]
  },
  {
   "cell_type": "markdown",
   "id": "903c7f9a",
   "metadata": {},
   "source": [
    "### CSV to DataFrame"
   ]
  },
  {
   "cell_type": "code",
   "execution_count": 6,
   "id": "a6abb497",
   "metadata": {},
   "outputs": [],
   "source": [
    "csv = pd.read_csv('./data/sample.csv', header=0, sep=',', encoding='euc-kr')"
   ]
  },
  {
   "cell_type": "code",
   "execution_count": 7,
   "id": "5cd704d4",
   "metadata": {},
   "outputs": [
    {
     "data": {
      "text/html": [
       "<div>\n",
       "<style scoped>\n",
       "    .dataframe tbody tr th:only-of-type {\n",
       "        vertical-align: middle;\n",
       "    }\n",
       "\n",
       "    .dataframe tbody tr th {\n",
       "        vertical-align: top;\n",
       "    }\n",
       "\n",
       "    .dataframe thead th {\n",
       "        text-align: right;\n",
       "    }\n",
       "</style>\n",
       "<table border=\"1\" class=\"dataframe\">\n",
       "  <thead>\n",
       "    <tr style=\"text-align: right;\">\n",
       "      <th></th>\n",
       "      <th>이름</th>\n",
       "      <th>국어성적</th>\n",
       "      <th>수학성적</th>\n",
       "    </tr>\n",
       "  </thead>\n",
       "  <tbody>\n",
       "    <tr>\n",
       "      <th>0</th>\n",
       "      <td>강다니엘</td>\n",
       "      <td>10</td>\n",
       "      <td>55</td>\n",
       "    </tr>\n",
       "    <tr>\n",
       "      <th>1</th>\n",
       "      <td>강동호</td>\n",
       "      <td>60</td>\n",
       "      <td>80</td>\n",
       "    </tr>\n",
       "    <tr>\n",
       "      <th>2</th>\n",
       "      <td>강미나</td>\n",
       "      <td>0</td>\n",
       "      <td>50</td>\n",
       "    </tr>\n",
       "    <tr>\n",
       "      <th>3</th>\n",
       "      <td>권현빈</td>\n",
       "      <td>20</td>\n",
       "      <td>60</td>\n",
       "    </tr>\n",
       "    <tr>\n",
       "      <th>4</th>\n",
       "      <td>김도연</td>\n",
       "      <td>60</td>\n",
       "      <td>80</td>\n",
       "    </tr>\n",
       "    <tr>\n",
       "      <th>5</th>\n",
       "      <td>김사무엘</td>\n",
       "      <td>30</td>\n",
       "      <td>65</td>\n",
       "    </tr>\n",
       "    <tr>\n",
       "      <th>6</th>\n",
       "      <td>김세정</td>\n",
       "      <td>60</td>\n",
       "      <td>80</td>\n",
       "    </tr>\n",
       "    <tr>\n",
       "      <th>7</th>\n",
       "      <td>김소혜</td>\n",
       "      <td>60</td>\n",
       "      <td>80</td>\n",
       "    </tr>\n",
       "    <tr>\n",
       "      <th>8</th>\n",
       "      <td>김청하</td>\n",
       "      <td>10</td>\n",
       "      <td>55</td>\n",
       "    </tr>\n",
       "    <tr>\n",
       "      <th>9</th>\n",
       "      <td>노태현</td>\n",
       "      <td>40</td>\n",
       "      <td>70</td>\n",
       "    </tr>\n",
       "    <tr>\n",
       "      <th>10</th>\n",
       "      <td>라이관린</td>\n",
       "      <td>70</td>\n",
       "      <td>85</td>\n",
       "    </tr>\n",
       "    <tr>\n",
       "      <th>11</th>\n",
       "      <td>박우진</td>\n",
       "      <td>10</td>\n",
       "      <td>55</td>\n",
       "    </tr>\n",
       "    <tr>\n",
       "      <th>12</th>\n",
       "      <td>박지훈</td>\n",
       "      <td>30</td>\n",
       "      <td>65</td>\n",
       "    </tr>\n",
       "    <tr>\n",
       "      <th>13</th>\n",
       "      <td>배진영</td>\n",
       "      <td>0</td>\n",
       "      <td>50</td>\n",
       "    </tr>\n",
       "    <tr>\n",
       "      <th>14</th>\n",
       "      <td>옹성우</td>\n",
       "      <td>20</td>\n",
       "      <td>60</td>\n",
       "    </tr>\n",
       "    <tr>\n",
       "      <th>15</th>\n",
       "      <td>유연정</td>\n",
       "      <td>60</td>\n",
       "      <td>80</td>\n",
       "    </tr>\n",
       "    <tr>\n",
       "      <th>16</th>\n",
       "      <td>임나영</td>\n",
       "      <td>90</td>\n",
       "      <td>95</td>\n",
       "    </tr>\n",
       "    <tr>\n",
       "      <th>17</th>\n",
       "      <td>전소미</td>\n",
       "      <td>0</td>\n",
       "      <td>50</td>\n",
       "    </tr>\n",
       "    <tr>\n",
       "      <th>18</th>\n",
       "      <td>정채연</td>\n",
       "      <td>0</td>\n",
       "      <td>50</td>\n",
       "    </tr>\n",
       "    <tr>\n",
       "      <th>19</th>\n",
       "      <td>주결경</td>\n",
       "      <td>90</td>\n",
       "      <td>95</td>\n",
       "    </tr>\n",
       "    <tr>\n",
       "      <th>20</th>\n",
       "      <td>주학년</td>\n",
       "      <td>10</td>\n",
       "      <td>55</td>\n",
       "    </tr>\n",
       "    <tr>\n",
       "      <th>21</th>\n",
       "      <td>최유정</td>\n",
       "      <td>90</td>\n",
       "      <td>95</td>\n",
       "    </tr>\n",
       "    <tr>\n",
       "      <th>22</th>\n",
       "      <td>타카다 켄타</td>\n",
       "      <td>60</td>\n",
       "      <td>80</td>\n",
       "    </tr>\n",
       "    <tr>\n",
       "      <th>23</th>\n",
       "      <td>하성운</td>\n",
       "      <td>10</td>\n",
       "      <td>55</td>\n",
       "    </tr>\n",
       "  </tbody>\n",
       "</table>\n",
       "</div>"
      ],
      "text/plain": [
       "        이름  국어성적  수학성적\n",
       "0     강다니엘    10    55\n",
       "1      강동호    60    80\n",
       "2      강미나     0    50\n",
       "3      권현빈    20    60\n",
       "4      김도연    60    80\n",
       "5     김사무엘    30    65\n",
       "6      김세정    60    80\n",
       "7      김소혜    60    80\n",
       "8      김청하    10    55\n",
       "9      노태현    40    70\n",
       "10    라이관린    70    85\n",
       "11     박우진    10    55\n",
       "12     박지훈    30    65\n",
       "13     배진영     0    50\n",
       "14     옹성우    20    60\n",
       "15     유연정    60    80\n",
       "16     임나영    90    95\n",
       "17     전소미     0    50\n",
       "18     정채연     0    50\n",
       "19     주결경    90    95\n",
       "20     주학년    10    55\n",
       "21     최유정    90    95\n",
       "22  타카다 켄타    60    80\n",
       "23     하성운    10    55"
      ]
     },
     "execution_count": 7,
     "metadata": {},
     "output_type": "execute_result"
    }
   ],
   "source": [
    "csv"
   ]
  },
  {
   "cell_type": "markdown",
   "id": "fe96c8f5",
   "metadata": {},
   "source": [
    "### DataFrame to Numpy"
   ]
  },
  {
   "cell_type": "markdown",
   "id": "bd6b78b1",
   "metadata": {},
   "source": [
    "NumPy offers comprehensive mathematical functions, random number generators, linear algebra routines, Fourier transforms, and more."
   ]
  },
  {
   "cell_type": "code",
   "execution_count": 8,
   "id": "38bb7e37",
   "metadata": {},
   "outputs": [],
   "source": [
    "import numpy as np"
   ]
  },
  {
   "cell_type": "code",
   "execution_count": 9,
   "id": "a5286ffb",
   "metadata": {},
   "outputs": [],
   "source": [
    "data = xlsx.values"
   ]
  },
  {
   "cell_type": "code",
   "execution_count": 10,
   "id": "26a47500",
   "metadata": {},
   "outputs": [
    {
     "data": {
      "text/plain": [
       "numpy.ndarray"
      ]
     },
     "execution_count": 10,
     "metadata": {},
     "output_type": "execute_result"
    }
   ],
   "source": [
    "type(data)"
   ]
  },
  {
   "cell_type": "code",
   "execution_count": 11,
   "id": "77a02cf2",
   "metadata": {},
   "outputs": [
    {
     "data": {
      "text/plain": [
       "array([['강다니엘', 10, 55],\n",
       "       ['강동호', 20, 60],\n",
       "       ['강미나', 50, 75],\n",
       "       ['권현빈', 80, 90],\n",
       "       ['김도연', 90, 95],\n",
       "       ['김사무엘', 70, 85],\n",
       "       ['김세정', 60, 80],\n",
       "       ['김소혜', 60, 80],\n",
       "       ['김청하', 30, 65],\n",
       "       ['노태현', 90, 95],\n",
       "       ['라이관린', 30, 65],\n",
       "       ['박우진', 30, 65],\n",
       "       ['박지훈', 70, 85],\n",
       "       ['배진영', 100, 100],\n",
       "       ['옹성우', 90, 95],\n",
       "       ['유연정', 10, 55],\n",
       "       ['임나영', 40, 70],\n",
       "       ['전소미', 30, 65],\n",
       "       ['정채연', 80, 90],\n",
       "       ['주결경', 90, 95],\n",
       "       ['주학년', 10, 55],\n",
       "       ['최유정', 80, 90],\n",
       "       ['타카다 켄타', 20, 60],\n",
       "       ['하성운', 90, 95]], dtype=object)"
      ]
     },
     "execution_count": 11,
     "metadata": {},
     "output_type": "execute_result"
    }
   ],
   "source": [
    "data"
   ]
  },
  {
   "cell_type": "code",
   "execution_count": 12,
   "id": "8328122d",
   "metadata": {},
   "outputs": [],
   "source": [
    "korean_score = data[:, 1]"
   ]
  },
  {
   "cell_type": "code",
   "execution_count": 13,
   "id": "773a4fc1",
   "metadata": {},
   "outputs": [
    {
     "name": "stdout",
     "output_type": "stream",
     "text": [
      "합 :  1330\n",
      "평균 :  55.416666666666664\n",
      "표준편차 :  30.135688514155806\n",
      "최대값 :  100\n"
     ]
    }
   ],
   "source": [
    "print(\"합 : \", np.sum(korean_score))\n",
    "print(\"평균 : \", np.mean(korean_score))\n",
    "print(\"표준편차 : \", np.std(korean_score))\n",
    "print(\"최대값 : \", np.max(korean_score))"
   ]
  },
  {
   "cell_type": "markdown",
   "id": "e983fe39",
   "metadata": {},
   "source": [
    "## Machine Learning Basic"
   ]
  },
  {
   "cell_type": "markdown",
   "id": "3349e570",
   "metadata": {},
   "source": [
    "Predict Math score with Korean score."
   ]
  },
  {
   "cell_type": "markdown",
   "id": "240cb551",
   "metadata": {},
   "source": [
    "### Raw Data"
   ]
  },
  {
   "cell_type": "code",
   "execution_count": 14,
   "id": "df08fab0",
   "metadata": {},
   "outputs": [],
   "source": [
    "data = pd.read_csv('./data/sample.csv', header=0, sep=',', encoding='euc-kr')"
   ]
  },
  {
   "cell_type": "code",
   "execution_count": 15,
   "id": "16528e9c",
   "metadata": {},
   "outputs": [
    {
     "data": {
      "text/html": [
       "<div>\n",
       "<style scoped>\n",
       "    .dataframe tbody tr th:only-of-type {\n",
       "        vertical-align: middle;\n",
       "    }\n",
       "\n",
       "    .dataframe tbody tr th {\n",
       "        vertical-align: top;\n",
       "    }\n",
       "\n",
       "    .dataframe thead th {\n",
       "        text-align: right;\n",
       "    }\n",
       "</style>\n",
       "<table border=\"1\" class=\"dataframe\">\n",
       "  <thead>\n",
       "    <tr style=\"text-align: right;\">\n",
       "      <th></th>\n",
       "      <th>이름</th>\n",
       "      <th>국어성적</th>\n",
       "      <th>수학성적</th>\n",
       "    </tr>\n",
       "  </thead>\n",
       "  <tbody>\n",
       "    <tr>\n",
       "      <th>0</th>\n",
       "      <td>강다니엘</td>\n",
       "      <td>10</td>\n",
       "      <td>55</td>\n",
       "    </tr>\n",
       "    <tr>\n",
       "      <th>1</th>\n",
       "      <td>강동호</td>\n",
       "      <td>60</td>\n",
       "      <td>80</td>\n",
       "    </tr>\n",
       "    <tr>\n",
       "      <th>2</th>\n",
       "      <td>강미나</td>\n",
       "      <td>0</td>\n",
       "      <td>50</td>\n",
       "    </tr>\n",
       "    <tr>\n",
       "      <th>3</th>\n",
       "      <td>권현빈</td>\n",
       "      <td>20</td>\n",
       "      <td>60</td>\n",
       "    </tr>\n",
       "    <tr>\n",
       "      <th>4</th>\n",
       "      <td>김도연</td>\n",
       "      <td>60</td>\n",
       "      <td>80</td>\n",
       "    </tr>\n",
       "  </tbody>\n",
       "</table>\n",
       "</div>"
      ],
      "text/plain": [
       "     이름  국어성적  수학성적\n",
       "0  강다니엘    10    55\n",
       "1   강동호    60    80\n",
       "2   강미나     0    50\n",
       "3   권현빈    20    60\n",
       "4   김도연    60    80"
      ]
     },
     "execution_count": 15,
     "metadata": {},
     "output_type": "execute_result"
    }
   ],
   "source": [
    "data.head()"
   ]
  },
  {
   "cell_type": "markdown",
   "id": "d0319cbe",
   "metadata": {},
   "source": [
    "Drop Names"
   ]
  },
  {
   "cell_type": "code",
   "execution_count": 16,
   "id": "fef5b9f5",
   "metadata": {},
   "outputs": [],
   "source": [
    "data = data[['국어성적', '수학성적']].values"
   ]
  },
  {
   "cell_type": "code",
   "execution_count": 17,
   "id": "dd923cb7",
   "metadata": {},
   "outputs": [
    {
     "data": {
      "text/plain": [
       "array([[10, 55],\n",
       "       [60, 80],\n",
       "       [ 0, 50],\n",
       "       [20, 60],\n",
       "       [60, 80],\n",
       "       [30, 65],\n",
       "       [60, 80],\n",
       "       [60, 80],\n",
       "       [10, 55],\n",
       "       [40, 70],\n",
       "       [70, 85],\n",
       "       [10, 55],\n",
       "       [30, 65],\n",
       "       [ 0, 50],\n",
       "       [20, 60],\n",
       "       [60, 80],\n",
       "       [90, 95],\n",
       "       [ 0, 50],\n",
       "       [ 0, 50],\n",
       "       [90, 95],\n",
       "       [10, 55],\n",
       "       [90, 95],\n",
       "       [60, 80],\n",
       "       [10, 55]], dtype=int64)"
      ]
     },
     "execution_count": 17,
     "metadata": {},
     "output_type": "execute_result"
    }
   ],
   "source": [
    "data"
   ]
  },
  {
   "cell_type": "code",
   "execution_count": 18,
   "id": "4a21521d",
   "metadata": {},
   "outputs": [
    {
     "data": {
      "text/plain": [
       "(24, 2)"
      ]
     },
     "execution_count": 18,
     "metadata": {},
     "output_type": "execute_result"
    }
   ],
   "source": [
    "data.shape"
   ]
  },
  {
   "cell_type": "markdown",
   "id": "b85c8dce",
   "metadata": {},
   "source": [
    "### Split Data: Train data, Validation Data"
   ]
  },
  {
   "cell_type": "code",
   "execution_count": 19,
   "id": "bf3eedd9",
   "metadata": {},
   "outputs": [],
   "source": [
    "train_len = 12\n",
    "train_idxs = np.random.choice(len(data), train_len, replace=False)"
   ]
  },
  {
   "cell_type": "code",
   "execution_count": 20,
   "id": "ac91c71f",
   "metadata": {},
   "outputs": [
    {
     "data": {
      "text/plain": [
       "array([14, 23, 12, 18, 15,  6,  1,  9,  8, 21, 11, 16])"
      ]
     },
     "execution_count": 20,
     "metadata": {},
     "output_type": "execute_result"
    }
   ],
   "source": [
    "train_idxs"
   ]
  },
  {
   "cell_type": "code",
   "execution_count": 21,
   "id": "5b7fc5e2",
   "metadata": {},
   "outputs": [],
   "source": [
    "train_data = data[train_idxs]"
   ]
  },
  {
   "cell_type": "code",
   "execution_count": 22,
   "id": "ff0b84a2",
   "metadata": {},
   "outputs": [
    {
     "data": {
      "text/plain": [
       "array([[20, 60],\n",
       "       [10, 55],\n",
       "       [30, 65],\n",
       "       [ 0, 50],\n",
       "       [60, 80],\n",
       "       [60, 80],\n",
       "       [60, 80],\n",
       "       [40, 70],\n",
       "       [10, 55],\n",
       "       [90, 95],\n",
       "       [10, 55],\n",
       "       [90, 95]], dtype=int64)"
      ]
     },
     "execution_count": 22,
     "metadata": {},
     "output_type": "execute_result"
    }
   ],
   "source": [
    "train_data"
   ]
  },
  {
   "cell_type": "code",
   "execution_count": 23,
   "id": "80549280",
   "metadata": {},
   "outputs": [],
   "source": [
    "val_idxs = [idx for idx in range(len(data)) if idx not in train_idxs]"
   ]
  },
  {
   "cell_type": "code",
   "execution_count": 24,
   "id": "ec97c843",
   "metadata": {},
   "outputs": [
    {
     "data": {
      "text/plain": [
       "[0, 2, 3, 4, 5, 7, 10, 13, 17, 19, 20, 22]"
      ]
     },
     "execution_count": 24,
     "metadata": {},
     "output_type": "execute_result"
    }
   ],
   "source": [
    "val_idxs"
   ]
  },
  {
   "cell_type": "code",
   "execution_count": 25,
   "id": "5c675ce8",
   "metadata": {},
   "outputs": [],
   "source": [
    "val_data = data[val_idxs]"
   ]
  },
  {
   "cell_type": "code",
   "execution_count": 26,
   "id": "2c60a245",
   "metadata": {},
   "outputs": [
    {
     "data": {
      "text/plain": [
       "array([[10, 55],\n",
       "       [ 0, 50],\n",
       "       [20, 60],\n",
       "       [60, 80],\n",
       "       [30, 65],\n",
       "       [60, 80],\n",
       "       [70, 85],\n",
       "       [ 0, 50],\n",
       "       [ 0, 50],\n",
       "       [90, 95],\n",
       "       [10, 55],\n",
       "       [60, 80]], dtype=int64)"
      ]
     },
     "execution_count": 26,
     "metadata": {},
     "output_type": "execute_result"
    }
   ],
   "source": [
    "val_data"
   ]
  },
  {
   "cell_type": "markdown",
   "id": "7a09b26e",
   "metadata": {},
   "source": [
    "### Set Models"
   ]
  },
  {
   "cell_type": "code",
   "execution_count": 27,
   "id": "cd693534",
   "metadata": {},
   "outputs": [],
   "source": [
    "def f(w, x):\n",
    "    return w*x"
   ]
  },
  {
   "cell_type": "markdown",
   "id": "afbbf3ae",
   "metadata": {},
   "source": [
    "### Set Loss Function"
   ]
  },
  {
   "cell_type": "code",
   "execution_count": 28,
   "id": "fd2cc5cf",
   "metadata": {},
   "outputs": [],
   "source": [
    "def loss(pre, y):\n",
    "    return ((pre-y)**2).sum()"
   ]
  },
  {
   "cell_type": "markdown",
   "id": "ab313619",
   "metadata": {},
   "source": [
    "### Train and Validate"
   ]
  },
  {
   "cell_type": "code",
   "execution_count": 29,
   "id": "67aeda5a",
   "metadata": {},
   "outputs": [],
   "source": [
    "ws = []\n",
    "for i in range(5):\n",
    "    x = train_data[:, 0]\n",
    "    y = train_data[:, 1]\n",
    "    \n",
    "    w = np.random.random()\n",
    "    pre = f(w, x)\n",
    "    \n",
    "    loss_value = loss(pre, x)\n",
    "    \n",
    "    # Omit training phase\n",
    "    # originally, loss_value -> update w\n",
    "    \n",
    "    ws.append(w)"
   ]
  },
  {
   "cell_type": "code",
   "execution_count": 30,
   "id": "e35aced5",
   "metadata": {},
   "outputs": [
    {
     "name": "stdout",
     "output_type": "stream",
     "text": [
      "Loss of 0.630381: 25084.46\n",
      "Loss of 0.733681: 21800.64\n",
      "Loss of 0.078255: 51791.62\n",
      "Loss of 0.126865: 48821.06\n",
      "Loss of 0.377735: 35391.06\n"
     ]
    }
   ],
   "source": [
    "for w in ws:\n",
    "    x = val_data[:, 0]\n",
    "    y = val_data[:, 1]\n",
    "    pre = f(w, x)\n",
    "    loss_value = loss(pre, y)\n",
    "    print(\"Loss of %f: %2.2f\"%(w, loss_value))"
   ]
  },
  {
   "cell_type": "markdown",
   "id": "b0c04613",
   "metadata": {},
   "source": [
    "### Select Model"
   ]
  },
  {
   "cell_type": "code",
   "execution_count": 31,
   "id": "e520524a",
   "metadata": {},
   "outputs": [],
   "source": [
    "w_best = 0.733681"
   ]
  },
  {
   "cell_type": "markdown",
   "id": "666dad56",
   "metadata": {},
   "source": [
    "### Test Model"
   ]
  },
  {
   "cell_type": "code",
   "execution_count": 32,
   "id": "6a0436ff",
   "metadata": {},
   "outputs": [],
   "source": [
    "x_test = 80\n",
    "y_test = 90"
   ]
  },
  {
   "cell_type": "code",
   "execution_count": 33,
   "id": "622a0bc5",
   "metadata": {},
   "outputs": [],
   "source": [
    "pre = f(w_best, x_test)"
   ]
  },
  {
   "cell_type": "code",
   "execution_count": 34,
   "id": "ca383b36",
   "metadata": {},
   "outputs": [
    {
     "data": {
      "text/plain": [
       "(58.69448, 90)"
      ]
     },
     "execution_count": 34,
     "metadata": {},
     "output_type": "execute_result"
    }
   ],
   "source": [
    "pre, y_test"
   ]
  },
  {
   "cell_type": "code",
   "execution_count": 35,
   "id": "9c7acf5d",
   "metadata": {},
   "outputs": [
    {
     "data": {
      "text/plain": [
       "3667.3909896448004"
      ]
     },
     "execution_count": 35,
     "metadata": {},
     "output_type": "execute_result"
    }
   ],
   "source": [
    "loss(pre, y)"
   ]
  }
 ],
 "metadata": {
  "kernelspec": {
   "display_name": "Python 3",
   "language": "python",
   "name": "python3"
  },
  "language_info": {
   "codemirror_mode": {
    "name": "ipython",
    "version": 3
   },
   "file_extension": ".py",
   "mimetype": "text/x-python",
   "name": "python",
   "nbconvert_exporter": "python",
   "pygments_lexer": "ipython3",
   "version": "3.8.8"
  }
 },
 "nbformat": 4,
 "nbformat_minor": 5
}
